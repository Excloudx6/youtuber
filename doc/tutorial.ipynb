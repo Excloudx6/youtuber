{
 "cells": [
  {
   "cell_type": "markdown",
   "metadata": {},
   "source": [
    "# Welcome to `youtuber` tutorial page"
   ]
  },
  {
   "cell_type": "markdown",
   "metadata": {},
   "source": [
    "# Simple Example"
   ]
  },
  {
   "cell_type": "code",
   "execution_count": null,
   "metadata": {},
   "outputs": [],
   "source": [
    "from youtuber import AutoCrawler\n",
    "DEVELOPER_KEY = \"enter_your_dev_api_key\"               # Enter your DEV API KEY at https://console.cloud.google.com/apis/api/youtube.googleapis.com/credentials?project=sincere-canyon-278402\n",
    "CHOROME_PATH = r'C:\\Program Files\\chromedriver.exe'    # Enter path of 'chromdriver.exe' \n",
    "\n",
    "auto = AutoCrawler(DEVELOPER_KEY, CHOROME_PATH)\n",
    "search_keyword = 'chatGPT'      # Youtube Search Keyword\n",
    "max_link_len = 2                # How many video you crawl.\n",
    "max_comment_pg_len = 2          # How many comment pages you target to crawl.\n",
    "save_path = './enter/any/path/result.csv'\n",
    "\n",
    "auto.run(search_keyword, max_link_len, max_comment_pg_len, save_path)"
   ]
  },
  {
   "attachments": {},
   "cell_type": "markdown",
   "metadata": {},
   "source": [
    "## 1. Get youtube search result\n",
    "The `youtuber.YoutubeAPI` can use the YouTube Data API v3 to retrieve a list of video links for a given search term, up to a specified number of results. Please follow the link below to obtain an API key."
   ]
  },
  {
   "cell_type": "code",
   "execution_count": null,
   "metadata": {},
   "outputs": [],
   "source": [
    "from youtuber import YoutubeAPI"
   ]
  },
  {
   "cell_type": "code",
   "execution_count": null,
   "metadata": {},
   "outputs": [],
   "source": [
    "DEVELOPER_KEY = \"enter_your_api_key\""
   ]
  },
  {
   "cell_type": "code",
   "execution_count": null,
   "metadata": {},
   "outputs": [],
   "source": [
    "youtuber_v3 = YoutubeAPI(DEVELOPER_KEY)\n",
    "links = youtuber_v3.get_links('chatGPT', 3) # if you enter 3, you can get 3 video links.\n",
    "links"
   ]
  },
  {
   "attachments": {},
   "cell_type": "markdown",
   "metadata": {},
   "source": [
    "## 2. Get comment data\n",
    "Using `youtuber.YoutubeCrawler`, you can create a dataframe of comments contained in the retrieved links. You can specify the maximum number of comment pages to crawl. However, since refining browser information through Selenium takes time, it is advisable to first check whether the links are valid. `youtuber.YoutubeCrawler` includes various functions, including static methods, that return data other than dataframes."
   ]
  },
  {
   "cell_type": "code",
   "execution_count": null,
   "metadata": {},
   "outputs": [],
   "source": [
    "chrome_driver = r'C:\\Program Files\\chromedriver.exe'"
   ]
  },
  {
   "cell_type": "code",
   "execution_count": null,
   "metadata": {},
   "outputs": [],
   "source": [
    "from youtuber import YoutubeCrawler"
   ]
  },
  {
   "cell_type": "code",
   "execution_count": null,
   "metadata": {},
   "outputs": [],
   "source": [
    "youtuber_crawl = YoutubeCrawler(chrome_driver)\n",
    "df = youtuber_crawl.get_comment_df(links, 1) # if you enter 1, only 1 page of comments will be searched.\n",
    "df"
   ]
  },
  {
   "cell_type": "markdown",
   "metadata": {},
   "source": [
    "he generated dataframe can be appropriately processed according to the user's needs."
   ]
  }
 ],
 "metadata": {
  "kernelspec": {
   "display_name": "quickshow",
   "language": "python",
   "name": "quickshow"
  },
  "language_info": {
   "codemirror_mode": {
    "name": "ipython",
    "version": 3
   },
   "file_extension": ".py",
   "mimetype": "text/x-python",
   "name": "python",
   "nbconvert_exporter": "python",
   "pygments_lexer": "ipython3",
   "version": "3.9.12"
  },
  "orig_nbformat": 4
 },
 "nbformat": 4,
 "nbformat_minor": 2
}
