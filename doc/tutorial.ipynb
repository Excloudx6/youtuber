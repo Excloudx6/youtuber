{
 "cells": [
  {
   "cell_type": "markdown",
   "metadata": {},
   "source": [
    "# Welcome to `youtuber` tutorial page"
   ]
  },
  {
   "cell_type": "code",
   "execution_count": 3,
   "metadata": {},
   "outputs": [],
   "source": [
    "from youtuber import YoutubeAPI"
   ]
  },
  {
   "attachments": {},
   "cell_type": "markdown",
   "metadata": {},
   "source": [
    "## 1. Get youtube search result\n",
    "The `youtuber.YoutubeAPI` can use the YouTube Data API v3 to retrieve a list of video links for a given search term, up to a specified number of results. Please follow the link below to obtain an API key."
   ]
  },
  {
   "cell_type": "code",
   "execution_count": null,
   "metadata": {},
   "outputs": [],
   "source": [
    "DEVELOPER_KEY = \"enter_your_api_key\""
   ]
  },
  {
   "cell_type": "code",
   "execution_count": 5,
   "metadata": {},
   "outputs": [
    {
     "data": {
      "text/plain": [
       "['https://www.youtube.com/watch?v=mpnh1YTT66w',\n",
       " 'https://www.youtube.com/watch?v=ykuDB3xpTTo',\n",
       " 'https://www.youtube.com/watch?v=GXm7WRtRbhA']"
      ]
     },
     "execution_count": 5,
     "metadata": {},
     "output_type": "execute_result"
    }
   ],
   "source": [
    "youtuber_v3 = YoutubeAPI(DEVELOPER_KEY)\n",
    "links = youtuber_v3.get_links('chatGPT', 3) # if you enter 3, you can get 3 video links.\n",
    "links"
   ]
  },
  {
   "attachments": {},
   "cell_type": "markdown",
   "metadata": {},
   "source": [
    "## 2. Get comment data\n",
    "Using `youtuber.YoutubeCrawler`, you can create a dataframe of comments contained in the retrieved links. You can specify the maximum number of comment pages to crawl. However, since refining browser information through Selenium takes time, it is advisable to first check whether the links are valid. `youtuber.YoutubeCrawler` includes various functions, including static methods, that return data other than dataframes."
   ]
  },
  {
   "cell_type": "code",
   "execution_count": 6,
   "metadata": {},
   "outputs": [],
   "source": [
    "chrome_driver = r'C:\\Program Files\\chromedriver.exe'"
   ]
  },
  {
   "cell_type": "code",
   "execution_count": null,
   "metadata": {},
   "outputs": [],
   "source": [
    "from youtuber import YoutubeCrawler"
   ]
  },
  {
   "cell_type": "code",
   "execution_count": 7,
   "metadata": {},
   "outputs": [
    {
     "data": {
      "text/html": [
       "<div>\n",
       "<style scoped>\n",
       "    .dataframe tbody tr th:only-of-type {\n",
       "        vertical-align: middle;\n",
       "    }\n",
       "\n",
       "    .dataframe tbody tr th {\n",
       "        vertical-align: top;\n",
       "    }\n",
       "\n",
       "    .dataframe thead th {\n",
       "        text-align: right;\n",
       "    }\n",
       "</style>\n",
       "<table border=\"1\" class=\"dataframe\">\n",
       "  <thead>\n",
       "    <tr style=\"text-align: right;\">\n",
       "      <th></th>\n",
       "      <th>comments</th>\n",
       "      <th>link</th>\n",
       "    </tr>\n",
       "  </thead>\n",
       "  <tbody>\n",
       "    <tr>\n",
       "      <th>0</th>\n",
       "      <td>KR\\n탐색 건너뛰기\\n로그인\\n#ai #tech #TheCodeReport\\nCh...</td>\n",
       "      <td>https://www.youtube.com/watch?v=mpnh1YTT66w</td>\n",
       "    </tr>\n",
       "    <tr>\n",
       "      <th>1</th>\n",
       "      <td></td>\n",
       "      <td>https://www.youtube.com/watch?v=mpnh1YTT66w</td>\n",
       "    </tr>\n",
       "    <tr>\n",
       "      <th>2</th>\n",
       "      <td>OpenAI just released a new ChatGPT plugin mark...</td>\n",
       "      <td>https://www.youtube.com/watch?v=mpnh1YTT66w</td>\n",
       "    </tr>\n",
       "    <tr>\n",
       "      <th>3</th>\n",
       "      <td>It just isn't a good day without a code report...</td>\n",
       "      <td>https://www.youtube.com/watch?v=mpnh1YTT66w</td>\n",
       "    </tr>\n",
       "    <tr>\n",
       "      <th>4</th>\n",
       "      <td>How do we know Jeff hasn't been already replac...</td>\n",
       "      <td>https://www.youtube.com/watch?v=mpnh1YTT66w</td>\n",
       "    </tr>\n",
       "    <tr>\n",
       "      <th>...</th>\n",
       "      <td>...</td>\n",
       "      <td>...</td>\n",
       "    </tr>\n",
       "    <tr>\n",
       "      <th>25</th>\n",
       "      <td></td>\n",
       "      <td>https://www.youtube.com/watch?v=GXm7WRtRbhA</td>\n",
       "    </tr>\n",
       "    <tr>\n",
       "      <th>26</th>\n",
       "      <td></td>\n",
       "      <td>https://www.youtube.com/watch?v=GXm7WRtRbhA</td>\n",
       "    </tr>\n",
       "    <tr>\n",
       "      <th>27</th>\n",
       "      <td></td>\n",
       "      <td>https://www.youtube.com/watch?v=GXm7WRtRbhA</td>\n",
       "    </tr>\n",
       "    <tr>\n",
       "      <th>28</th>\n",
       "      <td></td>\n",
       "      <td>https://www.youtube.com/watch?v=GXm7WRtRbhA</td>\n",
       "    </tr>\n",
       "    <tr>\n",
       "      <th>29</th>\n",
       "      <td>YouTube에서 로그아웃한 상태입니다\\n로그인하면 동영상에 좋아요를 표시하고 댓글...</td>\n",
       "      <td>https://www.youtube.com/watch?v=GXm7WRtRbhA</td>\n",
       "    </tr>\n",
       "  </tbody>\n",
       "</table>\n",
       "<p>90 rows × 2 columns</p>\n",
       "</div>"
      ],
      "text/plain": [
       "                                             comments  \\\n",
       "0   KR\\n탐색 건너뛰기\\n로그인\\n#ai #tech #TheCodeReport\\nCh...   \n",
       "1                                                       \n",
       "2   OpenAI just released a new ChatGPT plugin mark...   \n",
       "3   It just isn't a good day without a code report...   \n",
       "4   How do we know Jeff hasn't been already replac...   \n",
       "..                                                ...   \n",
       "25                                                      \n",
       "26                                                      \n",
       "27                                                      \n",
       "28                                                      \n",
       "29  YouTube에서 로그아웃한 상태입니다\\n로그인하면 동영상에 좋아요를 표시하고 댓글...   \n",
       "\n",
       "                                           link  \n",
       "0   https://www.youtube.com/watch?v=mpnh1YTT66w  \n",
       "1   https://www.youtube.com/watch?v=mpnh1YTT66w  \n",
       "2   https://www.youtube.com/watch?v=mpnh1YTT66w  \n",
       "3   https://www.youtube.com/watch?v=mpnh1YTT66w  \n",
       "4   https://www.youtube.com/watch?v=mpnh1YTT66w  \n",
       "..                                          ...  \n",
       "25  https://www.youtube.com/watch?v=GXm7WRtRbhA  \n",
       "26  https://www.youtube.com/watch?v=GXm7WRtRbhA  \n",
       "27  https://www.youtube.com/watch?v=GXm7WRtRbhA  \n",
       "28  https://www.youtube.com/watch?v=GXm7WRtRbhA  \n",
       "29  https://www.youtube.com/watch?v=GXm7WRtRbhA  \n",
       "\n",
       "[90 rows x 2 columns]"
      ]
     },
     "execution_count": 7,
     "metadata": {},
     "output_type": "execute_result"
    }
   ],
   "source": [
    "youtuber_crawl = YoutubeCrawler(chrome_driver)\n",
    "df = youtuber_crawl.get_comment_df(links, 1) # if you enter 1, only 1 page of comments will be searched.\n",
    "df"
   ]
  },
  {
   "cell_type": "markdown",
   "metadata": {},
   "source": [
    "he generated dataframe can be appropriately processed according to the user's needs."
   ]
  }
 ],
 "metadata": {
  "kernelspec": {
   "display_name": "youtube",
   "language": "python",
   "name": "youtube"
  },
  "language_info": {
   "codemirror_mode": {
    "name": "ipython",
    "version": 3
   },
   "file_extension": ".py",
   "mimetype": "text/x-python",
   "name": "python",
   "nbconvert_exporter": "python",
   "pygments_lexer": "ipython3",
   "version": "3.9.12"
  },
  "orig_nbformat": 4
 },
 "nbformat": 4,
 "nbformat_minor": 2
}
